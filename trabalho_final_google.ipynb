---
title: "Projeto final de Data Analytics do Google"
author: "Alan"
date: "2023-07-25"
output:
  word_document: default
  html_document: default
  pdf_document: default
---
```{r}
library(knitr)
caminho_imagem <- "C:/Users/Alanf/Downloads/Certificados Google/certificado-profissional-de-analise-de-dados-do-google.png"
include_graphics(caminho_imagem)
```
## Introdução e Objetivo do Estudo
Este projeto representa a parte principal do programa de certificação do Google Analytical.

Objetivo do Estudo
O objetivo deste estudo de caso é analisar o comportamento dos membros anuais e dos passageiros não membros, com a finalidade de desenvolver uma estratégia de marketing que incentive os não membros a aderirem ao programa de membros.

## Perguntar
Para alcançar o objetivo proposto, o estudo busca responder às seguintes questões:

1. Qual é o padrão de comportamento dos membros anuais em comparação com os passageiros não membros?
2. Quais são os principais motivos pelos quais os passageiros não membros não aderem ao programa de membros?
3. Quais ações de marketing podem ser implementadas para atrair os não membros e incentivá-los a se tornarem membros anuais?

As respostas a essas perguntas serão fundamentais para orientar a estratégia futura de marketing e aumentar o número de adesões ao programa de membros.

1. Como os membros anuais e os ciclistas casuais usam as bicicletas ciclísticas de maneira diferente?
2. Por que os ciclistas casuais comprariam assinaturas anuais da Cyclistic?
3. Como a Cyclistic pode usar a mídia digital para influenciar ciclistas casuais a se tornarem membros?


## Preparar
O conjunto de dados referente ao trimestre nº 2 de 2019 ao trimestre nº 1 de 2020 foi baixado a partir do link fornecido e salvo na minha área de trabalho local.

## Processar
Os passos realizados na plataforma R para preparar o arquivo final para análise foram os seguintes:

1. Uniformização dos nomes das colunas: Todas as colunas no conjunto de dados foram padronizadas para terem o mesmo nome em todo o arquivo. Isso garante consistência nos dados e facilita a manipulação e análise.

2. Remoção de colunas extras: Antes de mesclar os arquivos, foram identificadas quaisquer colunas que não eram comuns a todos os arquivos e, em seguida, essas colunas foram removidas. Isso garante que apenas as informações relevantes para a análise sejam mantidas.

3. Mesclagem das colunas: As colunas foram mescladas em um único arquivo usando a junção externa completa. Isso significa que todas as linhas dos arquivos foram mantidas, mesmo que não houvesse correspondência em alguma coluna específica.

4. Renomeação das linhas: A coluna que indicava se um registro era de um assinante/membro foi renomeada para "Membro", enquanto a coluna que indicava se era de um cliente/casual foi renomeada para "Não Membro". Essa renomeação torna os dados mais claros e compreensíveis.

5. Identificação e registro de outliers: Foram identificados quaisquer valores atípicos nos dados e eles foram registrados em uma coluna separada chamada "Outliers". Essa informação é importante para avaliar a qualidade e a confiabilidade dos dados.

Após a conclusão desses passos, o arquivo foi extraído como um arquivo CSV e está pronto para ser usado na análise. O conjunto de dados preparado é uma valiosa fonte de informações para a análise final, que pode revelar insights importantes sobre o comportamento dos membros e não membros, bem como possíveis oportunidades de melhoria para o negócio.

## Pré-análise dos dados: criamos as seguintes colunas
1. Ride Length in Minutess – Isso foi feito subtraindo o horário de início do percurso até o horário final.
2. Weekday  – calculado a partir da coluna da hora de início
3. Day name – calculado a partir da coluna da hora de início
4. Day number - calculado a partir da coluna da hora de início
5. Yea-Month-Quarter - calculado a partir da coluna da hora de início
6. Da mesma forma, o número do mês, o nome do mês e os trimestres foram criados
```{r}
# Carregando Bibliotecas Necessárias

library(tidyverse) # coleção de pacotes R projetados para tornar a manipulação e visualização de dados mais fácil e eficiente.

library(lubridate) # fornece funções para trabalhar com datas e horários de forma mais conveniente.


library(dplyr) # Carregar o pacote "dplyr", que é uma parte do "tidyverse" e fornece uma gramática para a manipulação de dados.

library(here) # fornece uma maneira mais conveniente de referenciar arquivos e diretórios dentro do projeto.

library(skimr)# fornece funções para criar resumos descritivos de conjuntos de dados.

library(janitor) # fornece funções para a limpeza e transformação de dados.

library(hablar) # fornece funções para análise de texto.

library(gapminder) # informações sobre indicadores sociais e econômicos de países.

library(scales) # fornece funções para formatar números e datas em gráficos.

library(ggrepel) # fornece funções para reposicionar automaticamente rótulos em gráficos ggplot2 para evitar sobreposições.

library(conflicted) # é usado para gerenciar conflitos entre funções de pacotes diferentes.

library(stats) # fornece funções estatísticas básicas e recursos essenciais. No entanto, precisamos carregar o pacote dplyr após carregar o pacote stats para evitar conflitos de função entre dplyr::filter e stats::filter.

options(warn=-1) # os avisos não serão exibidos. Isso é útil quando você deseja suprimir avisos durante a execução do código.

```
## Lendo os Dataframes

```{r}
# Load the data files
divvy_tips_2019_Q2 <- read.csv("C:/Users/Alanf/Downloads/Projeto_Google_Analytics/Divvy_Trips_2019_Q2.csv")
divvy_tips_2019_Q3 <- read.csv("C:/Users/Alanf/Downloads/Projeto_Google_Analytics/Divvy_Trips_2019_Q3.csv")
divvy_tips_2019_Q4 <- read.csv("C:/Users/Alanf/Downloads/Projeto_Google_Analytics/Divvy_Trips_2019_Q4.csv")
divvy_tips_2020_Q1 <- read.csv("C:/Users/Alanf/Downloads/Projeto_Google_Analytics/Divvy_Trips_2020_Q1.csv")
```

```{r}
# Entendendo sobre os dados

cat(" divvy_tips_2019_Q2 Dataset: -","\n", "Number of Rows are", nrow(divvy_tips_2019_Q2), "\n", "Number of Columns are", ncol(divvy_tips_2019_Q2))

cat("\n","---------------------------","\n")
cat(" divvy_tips_2019_Q3 Dataset: -","\n", "Number of Rows are", nrow(divvy_tips_2019_Q3), "\n", "Number of Columns are", ncol(divvy_tips_2019_Q3))

cat("\n","---------------------------","\n")
cat(" divvy_tips_2019_Q4 Dataset: -","\n", "Number of Rows are", nrow(divvy_tips_2019_Q4), "\n", "Number of Columns are", ncol(divvy_tips_2019_Q4))

cat("\n","---------------------------","\n")
cat(" divvy_tips_2020_Q1 Dataset: -","\n", "Number of Rows are", nrow(divvy_tips_2020_Q1), "\n", "Number of Columns are", ncol(divvy_tips_2020_Q1))
```

```{r}
# Revisando o nome das colunas em cada conjunto de dados fornecido 

cat("Columns Name in 2019_Q2 Data Set:-", "\n","\n")
print(colnames(divvy_tips_2019_Q2))
cat("--------------------------------------------------","\n","\n")

cat("Columns Name in 2019_Q3 Data Set:-", "\n","\n")
print(colnames(divvy_tips_2019_Q3))
cat("--------------------------------------------------","\n","\n")

cat("Columns Name in 2019_Q4 Data Set:-", "\n","\n")
print(colnames(divvy_tips_2019_Q4))
cat("--------------------------------------------------","\n","\n")

cat("Columns Name in 2020_Q1 Data Set:-", "\n","\n")
print(colnames(divvy_tips_2020_Q1))
```

Tornando cada coluna e posição uniforme.

Antes de unir os conjuntos de dados dos trimestres de 2019-T2 a 2020-T1 no projeto de análise, é fundamental garantir que os nomes das colunas e a ordem das colunas sejam uniformes em todos os arquivos. Isso é essencial para evitar erros na combinação dos dados e obter resultados precisos e consistentes.

A uniformidade dos nomes das colunas significa que cada coluna deve ter o mesmo nome em todos os conjuntos de dados, independentemente do trimestre. Além disso, a ordem das colunas deve ser a mesma em todos os arquivos, ou seja, a posição das colunas deve ser consistente em toda a base de dados.

Ao combinar os conjuntos de dados, o R utilizará os nomes das colunas para identificar quais colunas devem ser unidas. Se os nomes das colunas não estiverem uniformes ou se as colunas estiverem em posições diferentes em diferentes arquivos, isso pode levar a erros de correspondência e análise incorreta dos dados.
```{r}
divvy_tips_2019_Q2<-divvy_tips_2019_Q2 %>%
rename(Rental_ID=X01...Rental.Details.Rental.ID,
         From_Start_Date_Time=X01...Rental.Details.Local.Start.Time,
         To_End_Date_Time=X01...Rental.Details.Local.End.Time,
         Rental_Bike_ID=X01...Rental.Details.Bike.ID,
         Rental_Duration_Second=X01...Rental.Details.Duration.In.Seconds.Uncapped,
         Start_Station_ID=X03...Rental.Start.Station.ID,
         Start_Station_Name=X03...Rental.Start.Station.Name,
         End_Station_ID=X02...Rental.End.Station.ID,
         End_Station_Name=X02...Rental.End.Station.Name,
         User_Type=User.Type,
         Gender=Member.Gender,
         Birth_Year=X05...Member.Details.Member.Birthday.Year)

divvy_tips_2019_Q3<-divvy_tips_2019_Q3 %>% 
  rename(Rental_ID=trip_id,
         From_Start_Date_Time=start_time,
         To_End_Date_Time=end_time,
         Rental_Bike_ID=bikeid,
         Rental_Duration_Second=tripduration,
         Start_Station_ID=from_station_id,
         Start_Station_Name=from_station_name,
         End_Station_ID=to_station_id,
         End_Station_Name=to_station_name,
         User_Type=usertype,
         Gender=gender,
         Birth_Year=birthyear)

divvy_tips_2019_Q4<-divvy_tips_2019_Q4 %>% 
  rename(Rental_ID=trip_id,
         From_Start_Date_Time=start_time,
         To_End_Date_Time=end_time,
         Rental_Bike_ID=bikeid,
         Rental_Duration_Second=tripduration,
         Start_Station_ID=from_station_id,
         Start_Station_Name=from_station_name,
         End_Station_ID=to_station_id,
         End_Station_Name=to_station_name,
         User_Type=usertype,
         Gender=gender,
         Birth_Year=birthyear)

divvy_tips_2020_Q1<-divvy_tips_2020_Q1 %>% 
  rename(Rental_ID=ride_id,
         From_Start_Date_Time=started_at,
         To_End_Date_Time=ended_at,
         Start_Station_Name=start_station_name,
         Start_Station_ID=start_station_id,
         End_Station_Name=end_station_name,
         End_Station_ID=end_station_id,
         User_Type=member_casual)
```

```{r}
# Removendo as colunas que não são necessárias

divvy_tips_2019_Q2<-divvy_tips_2019_Q2 %>%
  select(-c(Rental_ID,Rental_Bike_ID,Rental_Duration_Second,
            Gender, Birth_Year))

divvy_tips_2019_Q3<-divvy_tips_2019_Q3 %>% 
  select(-c(Rental_ID,Rental_Bike_ID,Rental_Duration_Second,
            Gender,Birth_Year))

divvy_tips_2019_Q4<-divvy_tips_2019_Q4 %>% 
  select(-c(Rental_ID,Rental_Bike_ID,Rental_Duration_Second,
            Gender,Birth_Year))

divvy_tips_2020_Q1<-divvy_tips_2020_Q1 %>% 
  select(c(From_Start_Date_Time,To_End_Date_Time,
           Start_Station_ID,Start_Station_Name,End_Station_ID,
           End_Station_Name,User_Type))
```

```{r}
# Revisando a estrutura de dados do conjunto de dados fornecido

cat("------------------------------","\n")
cat("2019_Q2 Dataset", "\n")
cat("------------------------------","\n")
str(divvy_tips_2019_Q2)
cat("------------------------------","\n")
cat("2019_Q3 Dataset", "\n")
cat("------------------------------","\n")
str(divvy_tips_2019_Q3)
cat("------------------------------","\n")
cat("2019_Q4 Dataset", "\n")
cat("------------------------------","\n")
str(divvy_tips_2019_Q4)
cat("------------------------------","\n")
cat("2020_Q1 Dataset", "\n")
cat("------------------------------","\n")
str(divvy_tips_2020_Q1)
cat("------------------------------","\n")
```

```{r}
# Verificando o tipo de usuário distinto em cada conjunto de dados

cat("------------------------------","\n")
cat("Distinct User Type in 2019_Q2 Data set are:","\n") 
print(unique(divvy_tips_2019_Q2$User_Type))
cat("------------------------------","\n", "\n")

cat("------------------------------","\n")
cat("Distinct User Type in 2019_Q3 Data set are:","\n") 
print(unique(divvy_tips_2019_Q3$User_Type))
cat("------------------------------","\n", "\n")

cat("------------------------------","\n")
cat("Distinct User Type in 2019_Q4 Data set are:","\n") 
print(unique(divvy_tips_2019_Q4$User_Type))
cat("------------------------------","\n", "\n")

cat("------------------------------","\n")
cat("Distinct User Type in 2020_Q1 Data set are:","\n") 
print(unique(divvy_tips_2020_Q1$User_Type))
cat("------------------------------","\n", "\n")
```
```{r}
# Nome de linhas uniformes no dataset para tipo de usuário

divvy_tips_2019_Q2$User_Type<-recode(divvy_tips_2019_Q2$User_Type,
                                     "Subscriber" ="Member",
                                     "Customer" ="Not Member")

divvy_tips_2019_Q3$User_Type<-recode(divvy_tips_2019_Q3$User_Type,
                                     "Subscriber" ="Member",
                                     "Customer" ="Not Member")

divvy_tips_2019_Q4$User_Type<-recode(divvy_tips_2019_Q4$User_Type,
                                     "Subscriber" ="Member",
                                     "Customer" ="Not Member")

divvy_tips_2020_Q1$User_Type<-recode(divvy_tips_2020_Q1$User_Type,
                                     "member" ="Member",
                                     "casual" ="Not Member")
```

```{r}
# Combine todos os quatro conjuntos do dataset

divvy_tips_2019_2020<-bind_rows(divvy_tips_2019_Q2,divvy_tips_2019_Q3,
                                divvy_tips_2019_Q4,divvy_tips_2020_Q1)

# Revise a coluna Tipo de usuário após a modificação 

cat("O membro agora deve ser apenas de dois tipos: 'Member' e 'Not Member'", "\n")

print(unique(divvy_tips_2019_2020$User_Type))
```
```{r}
# Revise as junções no datasets

print(str(divvy_tips_2019_2020))
```

```{r}
# Formatando as colunas de data de caractere para data e hora

divvy_tips_2019_2020$From_Start_Date_Time<-ymd_hms(divvy_tips_2019_2020$From_Start_Date_Time)
divvy_tips_2019_2020$To_End_Date_Time<-ymd_hms(divvy_tips_2019_2020$To_End_Date_Time)
```

Para a realização da análise dos dados, foi criada uma nova coluna denominada "duração da viagem em minutos". Essa coluna foi obtida a partir da subtração do horário de término da viagem pelo horário de início da mesma. Essa medida permitirá uma compreensão mais detalhada da duração das viagens realizadas.

```{r}
divvy_tips_2019_2020$Ride_Length_min<-
as.numeric(as.character(difftime(divvy_tips_2019_2020$To_End_Date_Time,divvy_tips_2019_2020$From_Start_Date_Time)/60))
```

Os dados com duração de viagem em minutos menor que zero foram excluídos da análise utilizando o comando de filtro. Optamos por considerar apenas os registros cujo tempo de viagem em minutos é maior que zero, garantindo que tenhamos apenas valores válidos e coerentes para prosseguir com a análise dos dados.

```{r}
library(conflicted)
conflicts_prefer(dplyr::filter) #  informando ao R que prefere usar a função dplyr::filter quando houver um conflito com a função filter do pacote stats.

divvy_tips_2019_2020<-filter(divvy_tips_2019_2020, Ride_Length_min>0)
head(divvy_tips_2019_2020)
```
Realizar a visualização dos dados utilizando o gráfico de caixa (boxplot) para compreender a distribuição dos dados e identificar possíveis valores discrepantes (outliers).

```{r}
# Rotulagem de gráficos
graphM<-labs(title = "Data Distribution",
             subtitle= "Comparision between members and non-members",
             caption = "Data from 2019_Q2 to 2020_Q1",
             x = "Member Type",
             y ="Trip Length in Minutes")

# Temas dos Gráficos
graphTh<-theme(plot.title = element_text(size=18,face="bold"),
               plot.subtitle = element_text(size=14),
               plot.caption = element_text(size=12),
               axis.title.x = element_text(size=16, face="bold"),
               axis.title.y= element_text(size=16, face="bold"),
               axis.text.x=element_text(size=15,face="bold"),
               axis.text.y=element_text(size=15,face="bold"))

# Box-Plot
options(repr.plot.width=12, repr.plot.height=8)
ggplot(data=divvy_tips_2019_2020)+ 
  geom_boxplot(mapping = aes(x=User_Type,y=Ride_Length_min))+
  scale_y_continuous(label = scales::comma)+ 
  graphM + 
  graphTh
```
Com o objetivo de facilitar a análise, adicionamos novas colunas contendo informações como o dia da semana, nome do dia, número do mês, nome do mês, hora e ano, a partir dos dados da coluna "From_Start_Date_Time". Isso nos permitirá realizar análises mais detalhadas e identificar padrões relacionados ao tempo nos dados.

```{r}
divvy_tips_2019_2020<- divvy_tips_2019_2020 %>%
  mutate(Day_of_Week = wday(From_Start_Date_Time), 
         Day_Name = wday(From_Start_Date_Time,label = TRUE, abbr = FALSE),
         Month_Number=month(From_Start_Date_Time),
         Month_Name =months(From_Start_Date_Time),
         quarter_Number = quarters(From_Start_Date_Time),
         Year = year(From_Start_Date_Time),
         Hour= hour(From_Start_Date_Time))
```

Nossa análise inclui a avaliação da porcentagem de outliers em cada categoria de tipo de usuário presente no dataset. Ao identificar esses outliers, poderemos entender melhor como eles afetam nossas análises e tomar decisões mais precisas ao considerar cada grupo separadamente. Isso nos permitirá explorar se existem diferenças significativas nos dados entre os tipos de usuários e como os outliers podem influenciar nossas conclusões e insights. Com essa informação em mãos, estaremos mais preparados para realizar análises mais robustas e embasadas nos dados, considerando a presença de valores extremos em cada categoria de usuário.
```{r}
# Primeiro quartil

Q1<-divvy_tips_2019_2020 %>% 
  group_by(User_Type) %>% 
  summarize(Q1= quantile(Ride_Length_min,probs=0.25))

Q1
```
```{r}
# Terceiro quartil

Q3<-divvy_tips_2019_2020 %>% 
  group_by(User_Type) %>% 
  summarize(Q3= quantile(Ride_Length_min,probs=0.75))
Q3
```

```{r}
# Amplitude Interquartil

IQR<-divvy_tips_2019_2020 %>% 
  group_by(User_Type) %>% 
  summarize(IQR= quantile(Ride_Length_min,probs=0.75)-quantile(Ride_Length_min,probs=0.25))
IQR
```
Vamos aplicar esses cálculos ao conjunto de dados que temos disponível.

```{r}
# Limite Inferior 

Lower_Bound<-divvy_tips_2019_2020 %>% 
  group_by(User_Type) %>% 
  summarize(Lower_Bound= quantile(Ride_Length_min,probs=0.25)-
              1.5*(quantile(Ride_Length_min,probs=0.75)-quantile(Ride_Length_min,probs=0.25)))
Lower_Bound
```
```{r}
# Limite superior

Upper_Bound<-divvy_tips_2019_2020 %>% 
  group_by(User_Type) %>% 
  summarize(Upper_Bound= quantile(Ride_Length_min,probs=0.75)+
              1.5*(quantile(Ride_Length_min,probs=0.75)-quantile(Ride_Length_min,probs=0.25)))
Upper_Bound
```
```{r}
# Combinando limites inferior e superior

Outlier_prm<-cbind(Lower_Bound,Upper_Bound)
Outlier_prm<-Outlier_prm %>% select(-3)
Outlier_prm
```
```{r}
# Dados mesclados com Dataset Orginal

divvy_tips_2019_2020<- merge(divvy_tips_2019_2020,Outlier_prm, by ="User_Type", all=TRUE)
# Criando a coluna Outliers como True e False

divvy_tips_2019_2020$Outliers <- 
  divvy_tips_2019_2020$Ride_Length_min<= divvy_tips_2019_2020$Lower_Bound | divvy_tips_2019_2020$Ride_Length_min>= divvy_tips_2019_2020$Upper_Bound

# Converta TRUE e FALSE em Yes e No

divvy_tips_2019_2020$Outliers[divvy_tips_2019_2020$Outliers== TRUE]<- "Yes"
divvy_tips_2019_2020$Outliers[divvy_tips_2019_2020$Outliers== FALSE]<- "No"

# Verificando a coluna Outliers e deve haver apenas dois valores "Yes" e "No".

print(unique(divvy_tips_2019_2020$Outliers))
```
Para identificar a porcentagem de outliers em cada categoria de tipo de usuário, podemos realizar uma visualização de dados usando um gráfico de boxplot para cada grupo separadamente. O boxplot nos ajudará a identificar os valores atípicos e entender melhor a dispersão dos dados em relação aos quartis.

```{r}
# Rótulo

graphM1<-labs(title = "Percent Outliers observed",
              subtitle= "Comparision between members and non-members",
              caption = "Data from 2019_Q2 to 2020_Q1",
              x = "Member Type",
              y ="Number of Outliers (%)")

# Temas

graphTh1<-theme(legend.title=element_text(size=16, face="bold"),
                legend.text = element_text(size=16),
                plot.title = element_text(size=18,face="bold"),
                plot.subtitle = element_text(size=14),
                plot.caption = element_text(size=12),
                axis.title.x = element_text(size=16, face="bold"),
                axis.title.y= element_text(size=16, face="bold"),
                axis.text.x=element_text(size=15, face= 'bold'),
                axis.text.y=element_text(size=15, face= 'bold'))

# Gráfico de barras

options(repr.plot.width=10, repr.plot.height=8)
divvy_tips_2019_2020 %>% 
  count(User_Type,Outliers) %>% 
  group_by(User_Type) %>% 
  mutate(percnt=prop.table(n)*100) %>% 
  ggplot(mapping=aes(User_Type, percnt, fill=Outliers,
                     label = paste0(round(percnt,2), "%")))+
  geom_bar(stat="identity")+
  geom_text(position = position_stack(vjust = .5),
            size= 5)+
  graphM1 +
  graphTh1
```
Identificamos que o total de outliers entre os membros corresponde a 4,93% do conjunto de dados, enquanto nos não membros esse valor é de 8,19%.

Agora, para remover os outliers tanto dos membros quanto dos não membros, utilizaremos o comando filter para manter o conjunto de dados apenas com os registros que não são outliers. Para fazer isso, adicionaremos uma nova coluna chamada "Outlier" e atribuiremos o valor "No" para os registros que não são outliers.

```{r}
# Removendo outliers

divvy_tips_2019_2020<-filter(divvy_tips_2019_2020, Outliers =="No")
```
Além disso, empregamos o mesmo conjunto de dados para realizar uma análise adicional utilizando o Excel Power Pivot. O arquivo Excel contendo o Power Pivot também está disponível no conjunto de dados, juntamente com um deck de apresentação em formato PPT.

```{r}
# revendo o nome das colunas do dataset

cat("Coulmns Name in the Datasets:-", "\n")
cat("------------------------------","\n")
print(colnames(divvy_tips_2019_2020))
```
## Visualização de Dados

### Duração da viagem em dias de semana

```{r}
# Rótulo do gráfico

graphM2<- labs(title = "Trip Length in Weekdays",
               subtitle= "Comparision between members and non-members",
               caption = "Data from 2019_Q2 to 2020_Q1",
               x = "Weekdays",
               y ="Trip Length in Min",
               fill="User Type")

# Temas do gráfico

graphTh2<-theme(legend.position=c(0.80,0.90))


# Box plot após a remoção dos Outliers 

options(repr.plot.width=15, repr.plot.height=8)
ggplot(data=divvy_tips_2019_2020,
       mapping = aes(x=Day_Name,y=Ride_Length_min, fill=User_Type))+ 
  geom_boxplot(outlier.shape = NA)+ 
  stat_summary(fun=mean, geom = "point", size=2,
               position=position_dodge(width=0.75), color="black")+
  stat_summary(fun = mean, geom = "text", col = "black",    
               vjust = -8.9, hjust=1.1,size=4,
               aes(label = paste("AVG-", round(..y.., digits = 2))))+
  graphM2+
  graphTh1+
  graphTh2
```
1. Notavelmente, a duração média das viagens é menor para os membros em comparação com os não membros.

2. De forma interessante, durante os fins de semana, os não membros apresentaram uma média de duração de viagem 3 minutos maior do que nos dias úteis do mesmo grupo.

3. Observamos que não há diferença significativa no valor médio da duração das viagens entre os membros quando analisamos os dados dos diferentes dias da semana.

### Número de viagens em 24 horas
```{r}
# Rótulo dos gráficos

graphM3<- labs(title = "Number of Trips in 24 hours",
               subtitle= "Comparision between members and non-members",
               caption = "Data from 2019_Q2 to 2020_Q1",
               x = "Hour",
               y ="Number of Trips",
               color="User Type")

# Temas dos gráficos

graphTh3<-theme(legend.position=c(0.89,0.90))
                
# Gráfico de linhas - Número de viagens em 24 horas
              
divvy_tips_2019_2020 %>% group_by(Hour,User_Type) %>%
  summarise(Total_Rides = n()) %>% 
  ggplot(mapping = aes(x=Hour, y=Total_Rides, 
                       group=User_Type, color=User_Type))+
  geom_line()+ scale_y_continuous(label = scales::comma)+
  scale_color_manual(values=c("blue", "orangered"))+
  scale_size_manual(values=c(1.5, 1.5))+
  graphM3 +
  graphTh1 +
  graphTh3
```
## Members
1. Observamos um aumento significativo no número de viagens das 4h às 7h30 e uma queda acentuada das 7h30 às 10h.
2. Além disso, notamos um leve aumento no número de viagens até o meio-dia, seguido por uma diminuição até as 14h.
3. Após as 15h, o número de viagens apresenta um aumento expressivo, atingindo o pico por volta das 18h.

## Not Members
1. Notamos um aumento gradual no número de viagens das 6h às 17h, seguido de uma queda após as 17h.
2. Em relação ao grupo de Sócios, o número de viagens do grupo de Não Sócios é significativamente menor das 4h00 às 22h00.

### Total de viagens em minutos em 24 horas
```{r}
# Rótulos do gráfico

graphM4<-  labs(title="Total Trips in Minutes in 24 hours",
                subtitle = "Comparision between members and non-members",
                caption = "Data from 2019_Q2 to 2020_Q1",
                x= "Hour",
                y ="Total Trips in Minutes",
                color="User Type")

# Gráfico de linhas - Total de viagens em minutos em 24 horas

divvy_tips_2019_2020 %>% 
  group_by(Hour, User_Type) %>% 
  summarise(Total_Trip_Minutes =sum(Ride_Length_min)) %>% 
  ggplot(mapping = aes(x=Hour, y=Total_Trip_Minutes,
                       group=User_Type, color=User_Type))+
  geom_line()+ 
  scale_y_continuous(label = scales::comma)+
  scale_color_manual(values = c("blue","orangered"))+
  scale_size_manual(values=c(1.5, 1.5))+
  graphM4+
  graphTh1+
  graphTh3
```
## Members
1. Observamos que o número total de viagens e o padrão de minutos completos de viagens em 24 horas são idênticos.

## Not Members
1. Da mesma forma, notamos que o número total de viagens e o total de minutos de viagens em 24 horas são idênticos.
2. Além disso, podemos observar que o total de minutos de viagens utilizadas por um não associado é maior das 10h às 15h do que o de um associado.
3. Com base no estudo, podemos inferir que a maioria dos membros provavelmente pertence a grupos de funcionários que trabalham em turnos.

### Mean Trip Minutes in 24 hours
```{r}
# Rótulos do gráfico

graphM5<-  labs(title="Mean Trip Minutes in 24 hours",
                subtitle = "Comparision between members and non-members",
                caption = "Data from 2019_Q2 to 2020_Q1",
                x= "Hour",
                y ="AVG  Trips in Minutes",
                color="User Type")


# Gráfico de linhas - Minutos médios de viagem em 24 horas

divvy_tips_2019_2020 %>% 
  group_by(Hour, User_Type) %>% 
  summarise(AVG_Trip_Minutes =mean(Ride_Length_min)) %>% 
  ggplot(mapping = aes(x=Hour, y=AVG_Trip_Minutes,
                       group=User_Type, color=User_Type))+
  geom_line()+ scale_color_manual(values = c("blue","orangered"))+
  scale_size_manual(values=c(1.5, 1.5))+
  graphM5+
  graphTh1+
  graphTh3
```
### Members:
- O tempo médio da viagem dos membros varia de aproximadamente 9 a 11 horas ao longo do dia.

### Not Members:
1. O tempo médio de viagem dos não membros diminui de 12h à meia-noite até às 6h da manhã.
2. Observa-se um aumento acentuado no tempo médio da viagem após as 7h até às 11h. Permanece estável até as 14h e gradualmente diminui até as 22h, com um leve aumento após as 22h.
3. Em geral, o tempo médio de viagem é aproximadamente duas vezes maior para os não membros em comparação com os membros.
4. Realizaremos uma análise mais detalhada do número de viagens em várias estações entre membros e não membros.

### Número de viagens em dias de semana
```{r}
# Rótulo do gráfico

graphM6<-  labs(title="Number of Trips in Weekdays",
                subtitle = "Comparision between members and non-members",
                caption = "Data from 2019_Q2 to 2020_Q1",
                x= "Hour",
                y ="Number of Trips",
                fill="User Type")
# Tema do gráfico

graphTh3<-theme(legend.position=c(0.93,0.90))

# gráfico de barras empilhadas - Número de viagens em dias de semana

divvy_tips_2019_2020 %>% 
  group_by(Day_Name,User_Type) %>% 
  summarise(Total_rides_wk=n()) %>% 
  ggplot(mapping = aes(x=Day_Name, y=Total_rides_wk,
                       fill=User_Type))+
  geom_bar(stat = "identity")+ 
  scale_y_continuous(label = scales::comma)+
  scale_fill_manual(values = c("blue","orangered"))+
  geom_text(aes(label = paste0(comma(round(Total_rides_wk,2)))),
            position = position_stack(vjust = .5),
            size=7,color="white", fontface="bold")+
  graphM6+
  graphTh1+
  graphTh3
```
## Members:
1. O número de viagens dos membros foi reduzido em mais da metade nos fins de semana em comparação com segunda-feira a sexta-feira.
2. O número de viagens dos membros aumentou a partir de segunda-feira, atingiu o máximo na quarta-feira e diminuiu ligeiramente a partir de quarta-feira.

## Not Members:
1. O número de viagens dos não membros foi aproximadamente de 1,5 a 2,0 vezes maior nos fins de semana do que de segunda a sexta-feira.
2. O número de viagens dos não membros foi maior na sexta-feira, seguido por segunda-feira, excluindo os fins de semana.

### Total de Viagens em Minutos nos Dias da Semana
```{r}
# Rótulo do gráfico

graphM7<-  labs(title="Total Trips in Minutes in Weekdays",
                subtitle = "Comparision between members and non-members",
                caption = "Data from 2019_Q2 to 2020_Q1",
                x= "Weekdays",
                y ="Total Trips in Minutes",
                fill="User Type")

# Tema do gráfico

graphTh4<-theme(legend.position=c(0.73,0.94))

# gráfico de barras - Total de minutos de viagens em dias da semana

divvy_tips_2019_2020 %>% 
  group_by(Day_Name, User_Type) %>% 
  summarise(Total_trips_min_wkd =sum(Ride_Length_min)) %>% 
  ggplot(mapping=aes(x=Day_Name,y=Total_trips_min_wkd, fill=User_Type))+
  geom_bar(stat="identity")+
  scale_y_continuous(labels=scales::comma)+
  scale_fill_manual(values=c("blue","orangered"))+
  geom_text(aes(label = paste0(comma(round(Total_trips_min_wkd ,2)))),
          position = position_stack(vjust = .5),
          size=7,color="white",fontface="bold")+
  graphM7+
  graphTh1+
  graphTh4
```
## Members:
1. O número máximo de viagens em minutos foi maior na terça-feira e reduziu gradualmente após a terça-feira.
2. O valor mais baixo foi observado no domingo, seguido pelo sábado.

## Not Members:
1. O número máximo de viagens em minutos foi maior no sábado, seguido pelo domingo e sexta-feira.
2. A utilização das viagens foi observada como maior na sexta-feira, sábado e domingo.

## Média de Minutos por Viagem nos Dias de Semana
```{r}
# Rótulo do gráfico

graphM8<-labs(title="Mean Trip Minutes in Weekdays",
              subtitle = "Comparision between members and non-members",
              caption = "Data from 2019_Q2 to 2020_Q1",
              x= "Weekdays",
              y ="AVG Trip in Minutes",
              fill="User Type")

# Tema do gráfico

graphTh4<-theme(legend.position=c(0.53,0.94))

# gráfico de barras - Minutos médios de viagem em dias da semana

divvy_tips_2019_2020 %>% 
  group_by(Day_Name,User_Type) %>% 
  summarise(AVG_Trip_Min_wkd=mean(Ride_Length_min)) %>% 
  ggplot(mapping = aes(x=Day_Name, y=AVG_Trip_Min_wkd,
                       fill=User_Type))+
  geom_bar(stat = "identity")+
  scale_fill_manual(values = c("blue","orangered"))+
  geom_text(aes(label= paste0(round(AVG_Trip_Min_wkd,2))),
            position = position_stack(vjust = 0.5),
            size=7,color="white")+
  graphM8 +
  graphTh1+
  graphTh4
```
## Members:
- A média de tempo de viagem em minutos é aproximadamente duas vezes menor do que a dos não membros.
- Embora o número de viagens tenha diminuído nos fins de semana, o tempo médio de viagem é aproximadamente maior em 1 minuto.

## Not Members:
- A média de tempo de viagem em minutos é maior aos sábados e domingos, seguida por segunda-feira e sexta-feira.
- Embora o número de viagens seja menor em comparação com os membros, o tempo médio de viagem em minutos é duas vezes maior.

## Número de Viagens por Ano-Mês-Trimestre
Criamos uma coluna "Ano-Mês-Trimestre" multiplicando a coluna de ano por 100 e o número do mês.
Combinamos isso com o número do trimestre usando o sinal "_".
```{r}
# Criando Coluna Ano-Mês

divvy_tips_2019_2020$Year_Month<-divvy_tips_2019_2020$Year*100+divvy_tips_2019_2020$Month_Number

# Verificando o valor exclusivo da coluna Ano-Mês e classificando-os

print(sort(unique(divvy_tips_2019_2020$Year_Month)))
```
```{r}
# Criar coluna Ano-Mês_Trimestre

divvy_tips_2019_2020$Year_Month_Quarter<-paste0(divvy_tips_2019_2020$Year_Month,divvy_tips_2019_2020$quarter_Number)

# Verificando o valor unqiue da coluna Year-Month e classifique-os

print(sort(unique(divvy_tips_2019_2020$Year_Month_Quarter)))
```
```{r}
# Rótulo do gráfico

graphM9<- labs(title="Number of Trips in Year-Month-Quarter",
               subtitle = "Comparision between members and non-members",
               caption = "Data from 2019_Q2 to 2020_Q1",
               x= "Year-Month-Quarter",
               y ="Totall Number of Trips",
               color="User Type")

# Tema do gráfico
graphTh5<-theme(legend.position=c(0.90,0.90))

# Gráfico de linhas - Número de viagens no ano-mês-trimestre

divvy_tips_2019_2020 %>%
  group_by(Year_Month_Quarter, User_Type) %>% 
  summarise(Total_Number_Trips_ymq=n()) %>% 
  ggplot(mapping = aes(x=Year_Month_Quarter,y=Total_Number_Trips_ymq,
                       group=User_Type,
                       color=User_Type))+
  geom_line()+
  scale_y_continuous(labels = scales::comma)+
  scale_color_manual(values = c("blue","orangered"))+
  scale_size_manual(values=c(1.5, 1.5))+
  graphM9 +
  graphTh1 +
  graphTh5
```
## Observações:
1. O número de viagens para membros e não membros aumentou a partir de abril de 2019 e atingiu o pico em julho de 2019.
2. Após agosto de 2019, houve uma tendência de queda até novembro. No caso dos membros, a tendência permaneceu estável até fevereiro de 2020, enquanto para os não membros, foi até março de 2020.
3. A tendência dos não membros diminuiu acentuadamente em comparação com os membros. O mesmo padrão observado nos membros após outubro de 2019 se manteve até novembro de 2019.

## Total de Viagens em Minutos por Ano-Mês-Trimestre.
```{r}
# Rótulo do gráfico

graphM10<-  labs(title="Total Trips in Minutes in Year-Month-Quarter",
                 subtitle = "Comparision between members and non-members",
                 caption = "Data from 2019_Q2 to 2020_Q1",
                 x= "Year-Month-Quarter",
                 y ="Total Trips in Minutes",
                 color="User Type")

# Gráfico de linhas - Total de viagens em minutos no ano-mês-trimestre
divvy_tips_2019_2020 %>% 
  group_by(Year_Month_Quarter,User_Type) %>% 
  summarise(Total_Ride_Mins_ymq= sum(Ride_Length_min)) %>% 
  ggplot(mapping=aes(x=Year_Month_Quarter, y=Total_Ride_Mins_ymq,
                     group=User_Type,
                     color=User_Type))+
  geom_line()+
  scale_y_continuous(labels = scales::comma)+
  scale_color_manual(values = c("blue","orangered"))+
  scale_size_manual(values=c(1.5,1.5))+
  graphM10+
  graphTh1 +
  graphTh5
```
## Members:
1. Foi observado um padrão semelhante para membros no total de tempo de viagem em minutos, conforme seguimos a mesma abordagem utilizada para o número total de viagens.
2. O tempo de viagem em minutos reduziu gradualmente a partir de agosto de 2019 até o final de setembro de 2019. A partir de setembro de 2019, houve uma queda acentuada no tempo total de viagem até o final de outubro de 2019. Uma diminuição ligeira no tempo total de viagem foi observada a partir de novembro de 2019 e permaneceu estável de fevereiro a março de 2020.

## Not Members:
1. O tempo total de viagem em minutos ultrapassou o dos membros a partir de meados de junho de 2019 e permaneceu em alta até o final de julho de 2019. O tempo total de viagem em minutos declinou acentuadamente de agosto de 2019 até outubro de 2019.
2. Houve um leve aumento no tempo total de viagem (em minutos) de novembro a dezembro de 2019. Esse tempo de viagem (em minutos) aumentou novamente a partir de fevereiro de 2019.

## Tempo Médio de Viagens em Minutos por Ano-Mês-Trimestre.
```{r}
# Rótulo do gráfico

graphM11<-  labs(title="Average Rides in Minutes in Year-Month-Quarter",
                 subtitle = "Comparision between members and non-members",
                 caption = "Data from 2019_Q2 to 2020_Q1",
                 x= "Year-Month-Quarter",
                 y ="Average Ride in Minutes",
                 color="User Type")

# Gráfico de Linhas - Média de Viagens em Minutos no Ano-Mês-Trimestre

divvy_tips_2019_2020 %>% 
  group_by(Year_Month_Quarter,User_Type) %>% 
  summarise(AVG_Ride_Min_ymq= mean(Ride_Length_min)) %>% 
  ggplot(mapping=aes(x=Year_Month_Quarter, y=AVG_Ride_Min_ymq,
                     group=User_Type,
                     color=User_Type))+
  geom_line()+
  scale_y_continuous(labels = scales::comma)+
  scale_color_manual(values = c("blue","orangered"))+
  scale_size_manual(values=c(1.5,1.5))+
  graphM11 +
  graphTh1 +
  graphTh5
```
## Members:
1. O tempo médio de viagem (em minutos) aumenta de abril de 2019 até setembro de 2019. Permaneceu estável de outubro de 2019 até fevereiro de 2020.
2. O tempo médio de viagem (em minutos) aumentou ligeiramente a partir de meados de fevereiro de 2020.

## Not Members:
1. O tempo médio de viagem (em minutos) diminuiu ligeiramente de abril de 2019 até meados de julho de 2019. A redução no tempo médio de viagem foi comparativamente maior de agosto de 2019 até outubro de 2019.
2. O tempo médio de viagem aumentou em novembro de 2019, diminuiu em dezembro de 2019 e aumentou a partir de janeiro de 2020.

## Número de Viagens a partir da Estação Inicial.
```{r}
# Rótulo do gráfico

graphM12<-  labs(title="Number of Trips From Start Station",
                 subtitle = "Comparision between members and non-members",
                 caption = "Data from 2019_Q2 to 2020_Q1",
                 x= "Start Station ID",
                 y ="Total Number of Trips",
                 color="User Type",
                 alpha="User Type")

# Gráfico de linhas - Número de viagens da estação inicial

divvy_tips_2019_2020 %>% 
  group_by(Start_Station_ID, User_Type, Start_Station_Name) %>% 
  summarise(Number_of_Trips_sid=n()) %>% 
  ggplot(aes(x=Start_Station_ID, y=Number_of_Trips_sid,
                 group=User_Type,
                color=User_Type,
                alpha=User_Type)) + 
  geom_point(size=3)+
  geom_text_repel(data=divvy_tips_2019_2020 %>% 
             group_by(Start_Station_ID, User_Type, Start_Station_Name) %>%
             summarise(Number_of_Trips_sid=n()) %>%
             filter(User_Type=="Not Member", Number_of_Trips_sid>15000), # Filter data first
             aes(label=paste0(Start_Station_ID, " - ", Start_Station_Name)),
                 size=5, vjust=1.2, hjust=1.2, fontface ="bold",
                 arrow = arrow(length = unit(0.01, "npc")), box.padding = 1)+
  geom_hline(yintercept=15000,
             linetype="dashed", color = "orangered", size=1.0)+
  scale_y_continuous(labels = scales::comma)+
  scale_color_manual(values = c("blue","orangered"))+
  graphM12+
  graphTh1 +
  graphTh5
```
## Not Members:
1. O número de viagens dos não membros foi maior que 15.000 viagens nas seguintes estações de ID:

35 - [Streeter Dr & Grand Ave];
76 - [Lake Shore Dr & Monroe St];
90 - [Millennium Park];
85 - [Michigan Ave & Oak St];
3 - [Shedd Aquarium]; e
268 - [Lake Shore Dr & North Blvd]

O total de viagens "Não membros" também foi maior em comparação com os membros nessas estações.

## Tempo total de viagem a partir da Estação Inicial.
```{r}
# Rótulo do gráfico

graphM13<-  labs(title="Total Trip in Minutes From Start Station",
                 subtitle = "Comparision between members and non-members",
                 caption = "Data from 2019_Q2 to 2020_Q1",
                 x= "Start Station ID",
                 y ="Total Tips in Minutes",
                 color="User Type",
                 alpha="User Type")


# Gráfico de linhas - Número de viagens da estação inicial

divvy_tips_2019_2020 %>% group_by(Start_Station_ID,User_Type,Start_Station_Name) %>% 
  summarise(Total_trip_Min_sid=sum(Ride_Length_min)) %>% 
  ggplot(aes(x=Start_Station_ID,y=Total_trip_Min_sid,
      group=User_Type,
      color=User_Type,
      alpha=User_Type))+
  geom_point(size=3)+
  geom_hline(yintercept = 500000,linetype="dashed", 
             color = "orangered", size=1.0)+
  geom_text_repel(data=divvy_tips_2019_2020 %>% 
                    group_by(Start_Station_ID,User_Type,Start_Station_Name) %>% 
                    summarise(Total_trip_Min_sid=sum(Ride_Length_min)) %>% 
                    filter(User_Type=="Not Member", Total_trip_Min_sid>500000),
                  mapping = aes(x=Start_Station_ID, 
                                y=Total_trip_Min_sid,
                                label=paste0(Start_Station_ID," - ", Start_Station_Name)), 
                  size=6, vjust=0.8, hjust=1.2, fontface ="bold",
                 arrow = arrow(length = unit(0.01, "npc")), box.padding = 1)+
  scale_y_continuous(labels = scales::comma)+
  scale_color_manual(values = c("blue","orangered"))+
  graphM13+
  graphTh1 +
  graphTh5
```
## Not Members:
1. O total de minutos de viagem dos não membros foi maior que 500.000 minutos nas seguintes estações de ID:

35 - [Streeter Dr & Grand Ave];
76 - [Lake Shore Dr & Monroe St];
90 - [Millennium Park];
85 - [Michigan Ave & Oak St];
3 - [Shedd Aquarium]; e
268 - [Lake Shore Dr & North Blvd]

O total de minutos "Não membros" também foi maior em comparação com os membros nessas estações.

## Conclusão e Recomendação:
Com o objetivo de impulsionar o número de viagens de curta e longa duração e incentivar a adesão ao programa de associação, recomendamos as seguintes ações estratégicas:

1. Oferecer incentivos, como descontos ou cupons, para encorajar viagens de curta duração entre os não membros através do programa de associação.

2. Estimular os membros a realizarem mais viagens nos finais de semana, criando pacotes familiares para viagens de longa duração e promovendo descontos e promoções para viagens de curta duração nesses dias específicos.

3. Durante os meses de junho e julho, que são períodos de pico de viagens tanto para membros quanto para não membros devido às férias de verão, desenvolver ofertas exclusivas e promoções para atrair mais usuários para o programa de associação.

4. Aproveitar a época de Natal, entre novembro e dezembro, quando há aumento nas viagens para não membros, para oferecer pacotes promocionais e descontos que incentivem ainda mais o uso do serviço.

5. Concentrar os esforços de marketing em estações específicas identificadas pelos ID [Name]:

- 35 - [Streeter Dr & Grand Ave]
- 76 - [Lake Shore Dr & Monroe St]
- 85 - [Michigan Ave & Oak St]
- 90 - [Millennium Park]
- 3 - [Shedd Aquarium]
- 268 - [Lake Shore Dr & North Blvd]

Essas estações têm um alto número de viagens de não membros, representando uma oportunidade para converter esses usuários em membros por meio de campanhas direcionadas e estratégias promocionais atraentes.

Com a implementação dessas estratégias, esperamos alcançar resultados positivos, aumentando a adesão ao programa de associação e estimulando o aumento geral das viagens tanto para membros quanto para não membros, o que pode contribuir para o crescimento e sucesso do serviço prestado pela empresa.